{
 "cells": [
  {
   "cell_type": "code",
   "execution_count": null,
   "metadata": {},
   "outputs": [],
   "source": [
    "from time import sleep\n",
    "from supabase import create_client, Client\n",
    "import os\n",
    "import torch\n",
    "from transformers import AutoTokenizer, AutoModelForSeq2SeqLM, pipeline\n",
    "from tqdm import tqdm\n",
    "\n",
    "# Load Supabase credentials from a separate file\n",
    "with open(\"supabase_credentials.txt\", \"r\") as f:\n",
    "    url = f.readline().strip()\n",
    "    key = f.readline().strip()\n",
    "\n",
    "# Create a Supabase client\n",
    "supabase: Client = create_client(url, key)\n",
    "\n",
    "# Check if CUDA is available and set the device\n",
    "device = torch.device('cuda' if torch.cuda.is_available() else 'cpu')\n",
    "print(f\"Using device: {device}\")\n",
    "\n",
    "# Load tokenizer and model from the local directory\n",
    "# Path to the model on hagging face: https://huggingface.co/sshleifer/distilbart-cnn-12-6\n",
    "model_path = os.path.join(os.getcwd(), os.pardir,os.pardir, \"models/distilbart-cnn-12-6/\")\n",
    "tokenizer = AutoTokenizer.from_pretrained(model_path, use_fast=True)\n",
    "model = AutoModelForSeq2SeqLM.from_pretrained(model_path)\n",
    "model.to(device)\n",
    "\n",
    "nlp = pipeline(\"summarization\", model=model, tokenizer=tokenizer, device=device, use_fast=True)\n",
    "limit = 100\n",
    "offset = 38500\n",
    "\n",
    "# Fetch count of rows in the table\n",
    "response = supabase.table(\"news\").select(\"id\", count=\"exact\").execute()\n",
    "total_rows = response.count\n",
    "print(f\"Total rows to process: {total_rows}\")\n",
    "tqdm_bar = tqdm(range(offset, total_rows, limit), desc=\"Processing Batches\")\n",
    "for offset in tqdm_bar:\n",
    "    response = supabase.table(\"news\").select(\"id, content, summarization\").order(\"id\").range(offset, offset + limit - 1).execute()\n",
    "    rows = response.data\n",
    "    if not rows:\n",
    "        break\n",
    "    filtered_rows = list(filter(lambda x: len(x['content']) > 512 and x['summarization'] is None, rows))\n",
    "    if filtered_rows:\n",
    "        texts = [row['content'] for row in filtered_rows]\n",
    "        ids = [row['id'] for row in filtered_rows]\n",
    "        tqdm_bar.set_postfix({'curr_id': str(rows[0]['id'])})\n",
    "        summaries = nlp(texts, max_length=105, min_length=86, truncation=True, length_penalty=2.0, num_beams=4, early_stopping=True)\n",
    "        updates = [{\"id\": id, \"summarization\": summary['summary_text']} for id, summary in zip(ids, summaries)]\n",
    "        supabase.table(\"news\").upsert(updates, on_conflict=[\"id\"]).execute()"
   ]
  }
 ],
 "metadata": {
  "kernelspec": {
   "display_name": "base",
   "language": "python",
   "name": "python3"
  },
  "language_info": {
   "codemirror_mode": {
    "name": "ipython",
    "version": 3
   },
   "file_extension": ".py",
   "mimetype": "text/x-python",
   "name": "python",
   "nbconvert_exporter": "python",
   "pygments_lexer": "ipython3",
   "version": "3.12.3"
  }
 },
 "nbformat": 4,
 "nbformat_minor": 2
}
